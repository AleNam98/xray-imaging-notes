{
 "cells": [
  {
   "cell_type": "code",
   "execution_count": null,
   "id": "65acdfd8-789c-4953-8a57-b2bff18eb8d3",
   "metadata": {
    "tags": [
     "remove-cell"
    ]
   },
   "outputs": [],
   "source": [
    "import matplotlib.pyplot as plt\n",
    "import numpy as np\n",
    "from scipy import ndimage as ndi\n",
    "import imageio.v3 as iio"
   ]
  },
  {
   "cell_type": "markdown",
   "id": "45c23440-f55b-4ae7-a140-a1dca5d8c5de",
   "metadata": {},
   "source": [
    "# X-ray detection\n",
    "\n",
    "## The role of Quantum Efficiency, Noise, and Modulation Transfer Function in X-ray Detection\n",
    "\n",

    "*Introduction \n", 
    "In X-ray imaging, achieving high-quality images is essential for accurate diagnosis and analysis. 
    Several factors play a role in the performance of an X-ray detection system, for example system’s quantum efficiency,
    noise and the modulation transfer function. These three parameters are deeply interconnected, as each plays a critical 
    role in determining the image quality, resolution, and contrast of the resulting X-ray image. \n",

    "## Quantum Efficiency in X-ray Detection \n",

    "Quantum efficiency (QE) is the ability of a detector to convert incoming X-ray
    photons into an electrical signal. It is defined as the ratio of the number of detected photons to the number
    of incident photons striking the detector. A high QE indicates that the detector is efficient in capturing X-ray photons 
    and producing a meaningful signal, which directly impacts the signal-to-noise ratio (SNR) and image quality. 
    It can be expressed mathematically as: QE= (Number of detected photons/Number of incidents photons) 
    Several factors can play a role in determining the QE of an X-ray detector:
    •	Material properties: the composition of the detector material determines how effectively it absorbs and converts X-rays.
    •	Energy dependence: QE is often energy dependent, for example higher energy X-rays are typically harder to detect, resulting in lower efficiency.
    •	Detector design: thickness of the sensing layer, pixel size and type of readout mechanism can affect the overall QE. \n",

    "## Noise in X-ray Detection\n",
    "The main goal of an X-ray detector is to obtain high-quality images in which true information is 
    distinguished from background fluctuations. This aim could be hampered by Noise which refers to any unwanted 
    variation in the signal that can create an unclear image.  There are several noise sources that can impact the quality of X-ray images:
    •	Quantum Noise (Poisson Noise): This is statistical noise caused by the discrete nature of X-ray photons. 
     It results in random fluctuations in the number of incoming photons detected by each pixel, leading to signal variability. 
    Quantum noise is typically more pronounced at low photon counts, where the number of photons may be insufficient to produce a clear image.
    •	Electronic Noise: This noise originates from the electronic components of the detector and processing system such as amplifiers 
    and analog-to-digital converters. Therefore, electronic noise is present even in the absence of X-ray photons and contributes to 
    the overall noise level.
    •	Thermal Noise: Thermal noise occurs due to random fluctuations in the movement of charge carriers within the detector material, 
    which is usually driven by changes in temperature.
    •	Detector-Related Noise: This includes noise introduced by imperfections in the detector's material and structure, such as 
    defects in the pixel array or inefficiencies in photon conversion, which can lead to additional noise. \n", 
    "* Signal-to-Noise Ratio (SNR) \n",
    An image quality in X-ray imaging is evaluated by means of the signal-to-noise ratio (SNR). It is defined as the ratio of 
    the signal strength (i.e., the useful image information) to the noise level (unwanted random fluctuations): 
    SNR = Signal/Noise 
    In medical imaging, for example, improving SNR is crucial to ensure that small details, such as lesions or fractures, are visible even in noisy or low-dose scans. 
    Balancing SNR with dose is a critical aspect for X-ray imaging systems optimization. \n",

    "## Modulation Transfer Function (MTF) in X-ray Detection \n"
    "Modulation Transfer Function (MTF) is a performance indicator that evaluates the loss of contrast in an image relative to the object.
    When light from an object passes through an optical system, it is focused to create an image. However, imperfections in the system, 
    such as lens distortion, vignetting or diffraction, can cause image contrast degradation as the spatial frequency increases. 
    A simple example of contrast demage is shown in figure 1.
   
     
    Figure 1 Degradation of contrast in the image respect to the object due to optical system. [1]

  








   "\n",



"## X-ray conversion mechanisms \n",
    "\n",
    "* Scintillator-based systems\n",
    "* Direct detection systems\n",
    "\n",
    "## Integrating and photon-counting detectors"
   ]
  }
 ],
 "metadata": {
  "kernelspec": {
   "display_name": "Python 3 (ipykernel)",
   "language": "python",
   "name": "python3"
  },
  "language_info": {
   "codemirror_mode": {
    "name": "ipython",
    "version": 3
   },
   "file_extension": ".py",
   "mimetype": "text/x-python",
   "name": "python",
   "nbconvert_exporter": "python",
   "pygments_lexer": "ipython3",
   "version": "3.10.7"
  }
 },
 "nbformat": 4,
 "nbformat_minor": 5
}
