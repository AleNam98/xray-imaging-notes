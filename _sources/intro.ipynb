{
 "cells": [
  {
   "cell_type": "markdown",
   "id": "22c1b347-1309-430e-a779-9e73d6030438",
   "metadata": {},
   "source": [
    "# Fundamentals of X-ray imaging\n",
    "\n",
    "These are growing collective notes on X-ray imaging."
   ]
  },
  {
   "cell_type": "markdown",
   "id": "5ec81fe6-7bd1-4042-817d-5828e0e4d44e",
   "metadata": {},
   "source": [
    "```{tableofcontents}\n",
    "```"
   ]
  },
  {
   "cell_type": "markdown",
   "id": "8e2a2ffa-e111-4d7b-8715-65d56e46594f",
   "metadata": {},
   "source": [
    "These notes are meant to be compiled with [Jupyter-Book](https://jupyterbook.org)"
   ]
  },
  {
   "cell_type": "code",
   "execution_count": null,
   "id": "7b8cb6d4-d636-4d77-b9c6-e81f629021e9",
   "metadata": {},
   "outputs": [],
   "source": []
  }
 ],
 "metadata": {
  "kernelspec": {
   "display_name": "Python 3 (ipykernel)",
   "language": "python",
   "name": "python3"
  },
  "language_info": {
   "codemirror_mode": {
    "name": "ipython",
    "version": 3
   },
   "file_extension": ".py",
   "mimetype": "text/x-python",
   "name": "python",
   "nbconvert_exporter": "python",
   "pygments_lexer": "ipython3",
   "version": "3.10.7"
  }
 },
 "nbformat": 4,
 "nbformat_minor": 5
}
