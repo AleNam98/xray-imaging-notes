{
 "cells": [
  {
   "cell_type": "code",
   "execution_count": null,
   "id": "65acdfd8-789c-4953-8a57-b2bff18eb8d3",
   "metadata": {
    "tags": [
     "remove-cell"
    ]
   },
   "outputs": [],
   "source": [
    "import matplotlib.pyplot as plt\n",
    "import numpy as np\n",
    "from scipy import ndimage as ndi\n",
    "import imageio.v3 as iio"
   ]
  },
  {
   "cell_type": "markdown",
   "id": "45c23440-f55b-4ae7-a140-a1dca5d8c5de",
   "metadata": {},
   "source": [
    "# X-ray detection\n",
    "\n",
    "## General considerations\n",
    "\n",
    "* quantum efficiency\n",
    "* noise\n",
    "* MTF\n",
    "\n",
    "## X-ray conversion mechanisms \n",
    "\n",
    "* Scintillator-based systems\n",
    "* Direct detection systems\n",
    "\n",
    "## Integrating and photon-counting detectors"
   ]
  }
 ],
 "metadata": {
  "kernelspec": {
   "display_name": "Python 3 (ipykernel)",
   "language": "python",
   "name": "python3"
  },
  "language_info": {
   "codemirror_mode": {
    "name": "ipython",
    "version": 3
   },
   "file_extension": ".py",
   "mimetype": "text/x-python",
   "name": "python",
   "nbconvert_exporter": "python",
   "pygments_lexer": "ipython3",
   "version": "3.10.7"
  }
 },
 "nbformat": 4,
 "nbformat_minor": 5
}
