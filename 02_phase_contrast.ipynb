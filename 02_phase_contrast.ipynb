{
 "cells": [
  {
   "cell_type": "code",
   "execution_count": null,
   "metadata": {
    "tags": [
     "remove-cell"
    ]
   },
   "outputs": [],
   "source": [
    "import matplotlib.pyplot as plt\n",
    "import numpy as np\n",
    "from scipy import ndimage as ndi\n",
    "import imageio.v3 as iio"
   ]
  },
  {
   "cell_type": "markdown",
   "metadata": {},
   "source": [
    "# X-ray phase contrast\n",
    "\n",
    "General introduction to X-ray phase-contrast methods"
   ]
  },
  {
   "cell_type": "markdown",
   "metadata": {},
   "source": [
    "## X-rays as waves\n",
    "\n",
    "Good references for this section:\n",
    "* Detailed treatment of Fourier Optics: Goodman{cite}`Goodman2005`\n",
    "* The \"bible of optics\": Born & Wolff{cite}`Born1999`\n",
    "* Chapter 8 of excellent Caltech course notes: Blandford & Thorne{cite}`Blandford2012`\n",
    "* Transport of intensities: Teague{cite}`Teague1983` and Paganin et al.{cite}`Paganin2006`\n",
    "* Interesting relationship used for derivation of many results in the Fresnel regime: {cite}`Guigay1977`\n",
    "\n",
    "Helmholtz (wave) equation can be derived from Maxwell's equations.\n",
    "\n",
    "The solution can be expressed in terms of a self-consistent integral equation involving a Green function, which represent the solution for a point source emitter.\n",
    "\n",
    "### X-ray propagation in free space\n",
    "\n",
    "Angular spectrum formulation, Huygens-Fresnel integral\n",
    "\n",
    "Transport of intensities\n",
    "\n",
    "### X-ray propagation through matter\n",
    "\n",
    "In general rather complicated. Multiple approximation regimes are possible.\n",
    "* Born series\n",
    "* Projection approximation\n",
    "* Rytov series\n",
    "\n"
   ]
  },
  {
   "cell_type": "markdown",
   "metadata": {},
   "source": [
    "## Propagation-based phase-contrast\n",
    "\n",
    "### The Paganin formula\n",
    "\n",
    "Transport of intensities with a single material assumption{cite}`Paganin2002`\n",
    "\n",
    "### In-line holography\n",
    "\n",
    "Digital Inline holography (e.g. for soft X-ray microscopy at BESSY{cite}`Rosenhahn2009`\n",
    "\n",
    "Linearization of transmittance function -> contrast transfer function formalism{cite}`Cloetens1999`\n"
   ]
  },
  {
   "cell_type": "markdown",
   "metadata": {},
   "source": [
    "## Coherence\n",
    "\n",
    "Real sources are not point-like and are not monochromatic. Departure from ideal conditions can be quantified and its effect on the robustness of imaging methods can be evaluated.\n",
    "\n",
    "### Longitudinal coherence - polychromaticity\n",
    "\n",
    "For X-rays, different wavelengths normally have no phase relationships. As a consequence all measurements made with polychromatic x-rays are simply the sum, in intensity, of all the indidual frequency components. This consideration is still compatible with the concept of \"longitudinal coherence\", which quantifies the lenthscales over which a wavefield can interfere with itself along the propagation direction. For imaging purposes, this \n",
    "\n",
    "### Transverse coherence - mutual intensity\n",
    "\n"
   ]
  },
  {
   "cell_type": "markdown",
   "metadata": {},
   "source": [
    "```{bibliography}\n",
    ":style: unsrt\n",
    ":filter: docname in docnames\n",
    "```"
   ]
  },
  {
   "cell_type": "code",
   "execution_count": null,
   "metadata": {},
   "outputs": [],
   "source": []
  }
 ],
 "metadata": {
  "kernelspec": {
   "display_name": "Python 3 (ipykernel)",
   "language": "python",
   "name": "python3"
  },
  "language_info": {
   "codemirror_mode": {
    "name": "ipython",
    "version": 3
   },
   "file_extension": ".py",
   "mimetype": "text/x-python",
   "name": "python",
   "nbconvert_exporter": "python",
   "pygments_lexer": "ipython3",
   "version": "3.10.7"
  },
  "widgets": {
   "application/vnd.jupyter.widget-state+json": {
    "state": {},
    "version_major": 2,
    "version_minor": 0
   }
  }
 },
 "nbformat": 4,
 "nbformat_minor": 4
}
