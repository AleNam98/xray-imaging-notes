{
 "cells": [
  {
   "cell_type": "code",
   "execution_count": null,
   "metadata": {
    "tags": [
     "remove-cell"
    ]
   },
   "outputs": [],
   "source": [
    "import matplotlib.pyplot as plt\n",
    "import numpy as np\n",
    "from scipy import ndimage as ndi\n",
    "import imageio.v3 as iio"
   ]
  },
  {
   "cell_type": "markdown",
   "metadata": {},
   "source": [
    "# X-ray phase contrast\n",
    "\n",
    "General introduction of X-ray phase-contrast methods"
   ]
  },
  {
   "cell_type": "markdown",
   "metadata": {},
   "source": [
    "## X-rays as waves\n",
    "\n",
    "Helmholtz (wave) equation can be derived from Maxwell's equations.\n",
    "\n",
    "The solution can be expressed in terms of a self-consistent integral equation involving a Green function, which represent the solution for a point source emitter.\n",
    "\n",
    "### X-ray propagation in free space\n",
    "\n",
    "Angular spectrum formulation, Huygens-Fresnel integral\n",
    "\n",
    "Transport of intensities\n",
    "\n",
    "### X-ray propagation through matter\n",
    "\n",
    "In general rather complicated. Multiple approximation regimes are possible.\n",
    "* Born series\n",
    "* Projection approximation\n",
    "* Rytov series"
   ]
  },
  {
   "cell_type": "markdown",
   "metadata": {},
   "source": [
    "## Propagation-based phase-contrast\n",
    "\n",
    "### The Paganin formula\n",
    "\n",
    "Transport of intensities with a single material assumption\n",
    "\n",
    "\n",
    "### In-line holography\n",
    "\n",
    "\n"
   ]
  },
  {
   "cell_type": "markdown",
   "metadata": {},
   "source": [
    "## Coherence\n",
    "\n",
    "Real sources are not point-like and are not monochromatic. Departure from ideal conditions can be quantified and its effect on the robustness of imaging methods can be evaluated.\n",
    "\n",
    "### Longitudinal coherence - polychromaticity\n",
    "\n",
    "\n",
    "### Transverse coherence - mutual intensity\n",
    "\n"
   ]
  },
  {
   "cell_type": "code",
   "execution_count": null,
   "metadata": {},
   "outputs": [],
   "source": []
  },
  {
   "cell_type": "code",
   "execution_count": null,
   "metadata": {},
   "outputs": [],
   "source": []
  }
 ],
 "metadata": {
  "kernelspec": {
   "display_name": "Python 3 (ipykernel)",
   "language": "python",
   "name": "python3"
  },
  "language_info": {
   "codemirror_mode": {
    "name": "ipython",
    "version": 3
   },
   "file_extension": ".py",
   "mimetype": "text/x-python",
   "name": "python",
   "nbconvert_exporter": "python",
   "pygments_lexer": "ipython3",
   "version": "3.10.7"
  },
  "widgets": {
   "application/vnd.jupyter.widget-state+json": {
    "state": {},
    "version_major": 2,
    "version_minor": 0
   }
  }
 },
 "nbformat": 4,
 "nbformat_minor": 4
}
